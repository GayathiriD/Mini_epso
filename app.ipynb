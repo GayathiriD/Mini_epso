{
 "cells": [
  {
   "cell_type": "code",
   "execution_count": 5,
   "id": "be64ffe1-d06b-4dd7-853e-144666799e5d",
   "metadata": {},
   "outputs": [],
   "source": [
    "# mini-epos/app.py\n",
    "\n",
    "import random\n",
    "import sys"
   ]
  },
  {
   "cell_type": "code",
   "execution_count": 6,
   "id": "6baa8aa7-c1ae-41b0-be65-51b21a6674fc",
   "metadata": {},
   "outputs": [],
   "source": [
    "# Sample product catalog\n",
    "PRODUCTS = {\n",
    "    1: {\"name\": \"Coffee\", \"price\": 2.50},\n",
    "    2: {\"name\": \"Sandwich\", \"price\": 5.00},\n",
    "    3: {\"name\": \"Cake\", \"price\": 3.00},\n",
    "    4: {\"name\": \"Juice\", \"price\": 2.00},\n",
    "    5: {\"name\": \"Salad\", \"price\": 4.50}\n",
    "}"
   ]
  },
  {
   "cell_type": "code",
   "execution_count": null,
   "id": "506d7715-69ef-47de-a037-939ef9f12333",
   "metadata": {},
   "outputs": [
    {
     "name": "stdout",
     "output_type": "stream",
     "text": [
      "Welcome to Mini EPOS System\n",
      "\n",
      "Available Products:\n",
      "1. Coffee - £2.50\n",
      "2. Sandwich - £5.00\n",
      "3. Cake - £3.00\n",
      "4. Juice - £2.00\n",
      "5. Salad - £4.50\n",
      "\n",
      "Your cart is empty.\n"
     ]
    },
    {
     "name": "stdin",
     "output_type": "stream",
     "text": [
      "\n",
      "Select Product ID to add, 'remove [ID]' to remove, 'checkout' to pay, or 'exit' to quit:\n",
      ">  1\n"
     ]
    },
    {
     "name": "stdout",
     "output_type": "stream",
     "text": [
      "Added Coffee to cart.\n",
      "\n",
      "Available Products:\n",
      "1. Coffee - £2.50\n",
      "2. Sandwich - £5.00\n",
      "3. Cake - £3.00\n",
      "4. Juice - £2.00\n",
      "5. Salad - £4.50\n",
      "\n",
      "Your Cart:\n",
      "1. Coffee - £2.50\n",
      "Total: £2.50\n"
     ]
    },
    {
     "name": "stdin",
     "output_type": "stream",
     "text": [
      "\n",
      "Select Product ID to add, 'remove [ID]' to remove, 'checkout' to pay, or 'exit' to quit:\n",
      ">  2\n"
     ]
    },
    {
     "name": "stdout",
     "output_type": "stream",
     "text": [
      "Added Sandwich to cart.\n",
      "\n",
      "Available Products:\n",
      "1. Coffee - £2.50\n",
      "2. Sandwich - £5.00\n",
      "3. Cake - £3.00\n",
      "4. Juice - £2.00\n",
      "5. Salad - £4.50\n",
      "\n",
      "Your Cart:\n",
      "1. Coffee - £2.50\n",
      "2. Sandwich - £5.00\n",
      "Total: £7.50\n"
     ]
    },
    {
     "name": "stdin",
     "output_type": "stream",
     "text": [
      "\n",
      "Select Product ID to add, 'remove [ID]' to remove, 'checkout' to pay, or 'exit' to quit:\n",
      ">  4\n"
     ]
    },
    {
     "name": "stdout",
     "output_type": "stream",
     "text": [
      "Added Juice to cart.\n",
      "\n",
      "Available Products:\n",
      "1. Coffee - £2.50\n",
      "2. Sandwich - £5.00\n",
      "3. Cake - £3.00\n",
      "4. Juice - £2.00\n",
      "5. Salad - £4.50\n",
      "\n",
      "Your Cart:\n",
      "1. Coffee - £2.50\n",
      "2. Sandwich - £5.00\n",
      "3. Juice - £2.00\n",
      "Total: £9.50\n"
     ]
    },
    {
     "name": "stdin",
     "output_type": "stream",
     "text": [
      "\n",
      "Select Product ID to add, 'remove [ID]' to remove, 'checkout' to pay, or 'exit' to quit:\n",
      ">  remove[4]\n"
     ]
    },
    {
     "name": "stdout",
     "output_type": "stream",
     "text": [
      "Invalid remove command. Use: remove [Product ID]\n",
      "\n",
      "Available Products:\n",
      "1. Coffee - £2.50\n",
      "2. Sandwich - £5.00\n",
      "3. Cake - £3.00\n",
      "4. Juice - £2.00\n",
      "5. Salad - £4.50\n",
      "\n",
      "Your Cart:\n",
      "1. Coffee - £2.50\n",
      "2. Sandwich - £5.00\n",
      "3. Juice - £2.00\n",
      "Total: £9.50\n"
     ]
    }
   ],
   "source": [
    "# Cart to hold selected products\n",
    "cart = []\n",
    "\n",
    "def display_products():\n",
    "    print(\"\\nAvailable Products:\")\n",
    "    for pid, details in PRODUCTS.items():\n",
    "        print(f\"{pid}. {details['name']} - £{details['price']:.2f}\")\n",
    "\n",
    "def add_to_cart(product_id):\n",
    "    product = PRODUCTS.get(product_id)\n",
    "    if product:\n",
    "        cart.append(product)\n",
    "        print(f\"Added {product['name']} to cart.\")\n",
    "    else:\n",
    "        print(\"Invalid Product ID.\")\n",
    "\n",
    "def remove_from_cart(product_id):\n",
    "    product = PRODUCTS.get(product_id)\n",
    "    if product and product in cart:\n",
    "        cart.remove(product)\n",
    "        print(f\"Removed {product['name']} from cart.\")\n",
    "    else:\n",
    "        print(\"Product not found in cart.\")\n",
    "\n",
    "def show_cart():\n",
    "    if not cart:\n",
    "        print(\"\\nYour cart is empty.\")\n",
    "        return\n",
    "\n",
    "    print(\"\\nYour Cart:\")\n",
    "    total = 0\n",
    "    for idx, item in enumerate(cart, start=1):\n",
    "        print(f\"{idx}. {item['name']} - £{item['price']:.2f}\")\n",
    "        total += item['price']\n",
    "    print(f\"Total: £{total:.2f}\")\n",
    "\n",
    "def checkout():\n",
    "    if not cart:\n",
    "        print(\"\\nCart is empty. Add some items first!\")\n",
    "        return\n",
    "\n",
    "    print(\"\\nProcessing Payment...\")\n",
    "     # Simulate payment outcome\n",
    "    success = random.choice([True, False])\n",
    "    if success:\n",
    "        txn_id = f\"TXN{random.randint(10000,99999)}\"\n",
    "        print(f\"\\nPayment Successful! Transaction ID: {txn_id}\")\n",
    "        generate_receipt(txn_id)\n",
    "        cart.clear()\n",
    "    else:\n",
    "        print(\"\\nPayment Failed. Please try again.\")\n",
    "\n",
    "\n",
    "def generate_receipt(txn_id):\n",
    "    print(\"\\n----- RECEIPT -----\")\n",
    "    total = 0\n",
    "    for item in cart:\n",
    "        print(f\"{item['name']} - £{item['price']:.2f}\")\n",
    "        total += item['price']\n",
    "    print(f\"Total: £{total:.2f}\")\n",
    "    print(f\"Transaction ID: {txn_id}\")\n",
    "    print(\"Thank you for shopping with us!\")\n",
    "    print(\"--------------------\\n\")\n",
    "\n",
    "def main():\n",
    "    print(\"Welcome to Mini EPOS System\")\n",
    "\n",
    "    while True:\n",
    "        display_products()\n",
    "        show_cart()\n",
    "        user_input = input(\"\\nSelect Product ID to add, 'remove [ID]' to remove, 'checkout' to pay, or 'exit' to quit:\\n> \").strip()\n",
    "\n",
    "        if user_input.lower() == 'checkout':\n",
    "            checkout()\n",
    "        elif user_input.lower() == 'exit':\n",
    "            print(\"Exiting... Goodbye!\")\n",
    "            sys.exit()\n",
    "        elif user_input.startswith('remove'):\n",
    "            try:\n",
    "                _, pid = user_input.split()\n",
    "                remove_from_cart(int(pid))\n",
    "            except (ValueError, IndexError):\n",
    "                print(\"Invalid remove command. Use: remove [Product ID]\")\n",
    "        else:\n",
    "            try:\n",
    "                pid = int(user_input)\n",
    "                add_to_cart(pid)\n",
    "            except ValueError:\n",
    "                print(\"Please enter a valid Product ID.\")\n",
    "\n",
    "if __name__ == \"__main__\":\n",
    "    main()\n",
    "\n"
   ]
  }
 ],
 "metadata": {
  "kernelspec": {
   "display_name": "Python 3 (ipykernel)",
   "language": "python",
   "name": "python3"
  },
  "language_info": {
   "codemirror_mode": {
    "name": "ipython",
    "version": 3
   },
   "file_extension": ".py",
   "mimetype": "text/x-python",
   "name": "python",
   "nbconvert_exporter": "python",
   "pygments_lexer": "ipython3",
   "version": "3.12.7"
  }
 },
 "nbformat": 4,
 "nbformat_minor": 5
}
